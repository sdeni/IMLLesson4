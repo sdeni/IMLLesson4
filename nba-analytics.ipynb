{
 "cells": [
  {
   "cell_type": "code",
   "execution_count": 1,
   "metadata": {
    "_cell_guid": "b1076dfc-b9ad-4769-8c92-a6c4dae69d19",
    "_uuid": "8f2839f25d086af736a60e9eeb907d3b93b6e0e5",
    "execution": {
     "iopub.execute_input": "2021-09-25T03:05:29.306903Z",
     "iopub.status.busy": "2021-09-25T03:05:29.306273Z",
     "iopub.status.idle": "2021-09-25T03:05:29.350097Z",
     "shell.execute_reply": "2021-09-25T03:05:29.349132Z",
     "shell.execute_reply.started": "2021-09-25T03:05:29.306778Z"
    }
   },
   "outputs": [],
   "source": [
    "# This Python 3 environment comes with many helpful analytics libraries installed\n",
    "# It is defined by the kaggle/python Docker image: https://github.com/kaggle/docker-python\n",
    "# For example, here's several helpful packages to load\n",
    "\n",
    "import numpy as np # linear algebra\n",
    "import pandas as pd # data processing, CSV file I/O (e.g. pd.read_csv)\n",
    "\n",
    "# Input data files are available in the read-only \"../input/\" directory\n",
    "# For example, running this (by clicking run or pressing Shift+Enter) will list all files under the input directory\n",
    "\n",
    "import os\n",
    "for dirname, _, filenames in os.walk('/kaggle/input'):\n",
    "    for filename in filenames:\n",
    "        print(os.path.join(dirname, filename))\n",
    "\n",
    "# You can write up to 20GB to the current directory (/kaggle/working/) that gets preserved as output when you create a version using \"Save & Run All\" \n",
    "# You can also write temporary files to /kaggle/temp/, but they won't be saved outside of the current session"
   ]
  },
  {
   "cell_type": "code",
   "execution_count": 2,
   "metadata": {
    "execution": {
     "iopub.execute_input": "2021-09-25T03:05:29.351849Z",
     "iopub.status.busy": "2021-09-25T03:05:29.351609Z",
     "iopub.status.idle": "2021-09-25T03:05:29.357105Z",
     "shell.execute_reply": "2021-09-25T03:05:29.356318Z",
     "shell.execute_reply.started": "2021-09-25T03:05:29.35182Z"
    }
   },
   "outputs": [],
   "source": [
    "import matplotlib.pyplot as plt\n",
    "%matplotlib inline"
   ]
  },
  {
   "cell_type": "code",
   "execution_count": 4,
   "metadata": {
    "execution": {
     "iopub.execute_input": "2021-09-25T03:05:29.358512Z",
     "iopub.status.busy": "2021-09-25T03:05:29.35825Z",
     "iopub.status.idle": "2021-09-25T03:05:29.430147Z",
     "shell.execute_reply": "2021-09-25T03:05:29.429165Z",
     "shell.execute_reply.started": "2021-09-25T03:05:29.358484Z"
    }
   },
   "outputs": [
    {
     "data": {
      "text/html": [
       "<div>\n",
       "<style scoped>\n",
       "    .dataframe tbody tr th:only-of-type {\n",
       "        vertical-align: middle;\n",
       "    }\n",
       "\n",
       "    .dataframe tbody tr th {\n",
       "        vertical-align: top;\n",
       "    }\n",
       "\n",
       "    .dataframe thead th {\n",
       "        text-align: right;\n",
       "    }\n",
       "</style>\n",
       "<table border=\"1\" class=\"dataframe\">\n",
       "  <thead>\n",
       "    <tr style=\"text-align: right;\">\n",
       "      <th></th>\n",
       "      <th>Unnamed: 0</th>\n",
       "      <th>name</th>\n",
       "      <th>gp</th>\n",
       "      <th>min</th>\n",
       "      <th>pts</th>\n",
       "      <th>fgm</th>\n",
       "      <th>fga</th>\n",
       "      <th>fg</th>\n",
       "      <th>3p_made</th>\n",
       "      <th>3pa</th>\n",
       "      <th>...</th>\n",
       "      <th>fta</th>\n",
       "      <th>ft</th>\n",
       "      <th>oreb</th>\n",
       "      <th>dreb</th>\n",
       "      <th>reb</th>\n",
       "      <th>ast</th>\n",
       "      <th>stl</th>\n",
       "      <th>blk</th>\n",
       "      <th>tov</th>\n",
       "      <th>target_5yrs</th>\n",
       "    </tr>\n",
       "  </thead>\n",
       "  <tbody>\n",
       "    <tr>\n",
       "      <th>0</th>\n",
       "      <td>0</td>\n",
       "      <td>Brandon Ingram</td>\n",
       "      <td>36</td>\n",
       "      <td>27.4</td>\n",
       "      <td>7.4</td>\n",
       "      <td>2.6</td>\n",
       "      <td>7.6</td>\n",
       "      <td>34.7</td>\n",
       "      <td>0.5</td>\n",
       "      <td>2.1</td>\n",
       "      <td>...</td>\n",
       "      <td>2.3</td>\n",
       "      <td>69.9</td>\n",
       "      <td>0.7</td>\n",
       "      <td>3.4</td>\n",
       "      <td>4.1</td>\n",
       "      <td>1.9</td>\n",
       "      <td>0.4</td>\n",
       "      <td>0.4</td>\n",
       "      <td>1.3</td>\n",
       "      <td>0</td>\n",
       "    </tr>\n",
       "    <tr>\n",
       "      <th>1</th>\n",
       "      <td>1</td>\n",
       "      <td>Andrew Harrison</td>\n",
       "      <td>35</td>\n",
       "      <td>26.9</td>\n",
       "      <td>7.2</td>\n",
       "      <td>2.0</td>\n",
       "      <td>6.7</td>\n",
       "      <td>29.6</td>\n",
       "      <td>0.7</td>\n",
       "      <td>2.8</td>\n",
       "      <td>...</td>\n",
       "      <td>3.4</td>\n",
       "      <td>76.5</td>\n",
       "      <td>0.5</td>\n",
       "      <td>2.0</td>\n",
       "      <td>2.4</td>\n",
       "      <td>3.7</td>\n",
       "      <td>1.1</td>\n",
       "      <td>0.5</td>\n",
       "      <td>1.6</td>\n",
       "      <td>0</td>\n",
       "    </tr>\n",
       "    <tr>\n",
       "      <th>2</th>\n",
       "      <td>2</td>\n",
       "      <td>JaKarr Sampson</td>\n",
       "      <td>74</td>\n",
       "      <td>15.3</td>\n",
       "      <td>5.2</td>\n",
       "      <td>2.0</td>\n",
       "      <td>4.7</td>\n",
       "      <td>42.2</td>\n",
       "      <td>0.4</td>\n",
       "      <td>1.7</td>\n",
       "      <td>...</td>\n",
       "      <td>1.3</td>\n",
       "      <td>67.0</td>\n",
       "      <td>0.5</td>\n",
       "      <td>1.7</td>\n",
       "      <td>2.2</td>\n",
       "      <td>1.0</td>\n",
       "      <td>0.5</td>\n",
       "      <td>0.3</td>\n",
       "      <td>1.0</td>\n",
       "      <td>0</td>\n",
       "    </tr>\n",
       "    <tr>\n",
       "      <th>3</th>\n",
       "      <td>3</td>\n",
       "      <td>Malik Sealy</td>\n",
       "      <td>58</td>\n",
       "      <td>11.6</td>\n",
       "      <td>5.7</td>\n",
       "      <td>2.3</td>\n",
       "      <td>5.5</td>\n",
       "      <td>42.6</td>\n",
       "      <td>0.1</td>\n",
       "      <td>0.5</td>\n",
       "      <td>...</td>\n",
       "      <td>1.3</td>\n",
       "      <td>68.9</td>\n",
       "      <td>1.0</td>\n",
       "      <td>0.9</td>\n",
       "      <td>1.9</td>\n",
       "      <td>0.8</td>\n",
       "      <td>0.6</td>\n",
       "      <td>0.1</td>\n",
       "      <td>1.0</td>\n",
       "      <td>1</td>\n",
       "    </tr>\n",
       "    <tr>\n",
       "      <th>4</th>\n",
       "      <td>4</td>\n",
       "      <td>Matt Geiger</td>\n",
       "      <td>48</td>\n",
       "      <td>11.5</td>\n",
       "      <td>4.5</td>\n",
       "      <td>1.6</td>\n",
       "      <td>3.0</td>\n",
       "      <td>52.4</td>\n",
       "      <td>0.0</td>\n",
       "      <td>0.1</td>\n",
       "      <td>...</td>\n",
       "      <td>1.9</td>\n",
       "      <td>67.4</td>\n",
       "      <td>1.0</td>\n",
       "      <td>1.5</td>\n",
       "      <td>2.5</td>\n",
       "      <td>0.3</td>\n",
       "      <td>0.3</td>\n",
       "      <td>0.4</td>\n",
       "      <td>0.8</td>\n",
       "      <td>1</td>\n",
       "    </tr>\n",
       "  </tbody>\n",
       "</table>\n",
       "<p>5 rows × 22 columns</p>\n",
       "</div>"
      ],
      "text/plain": [
       "   Unnamed: 0             name  gp   min  pts  fgm  fga    fg  3p_made  3pa  \\\n",
       "0           0   Brandon Ingram  36  27.4  7.4  2.6  7.6  34.7      0.5  2.1   \n",
       "1           1  Andrew Harrison  35  26.9  7.2  2.0  6.7  29.6      0.7  2.8   \n",
       "2           2   JaKarr Sampson  74  15.3  5.2  2.0  4.7  42.2      0.4  1.7   \n",
       "3           3      Malik Sealy  58  11.6  5.7  2.3  5.5  42.6      0.1  0.5   \n",
       "4           4      Matt Geiger  48  11.5  4.5  1.6  3.0  52.4      0.0  0.1   \n",
       "\n",
       "   ...  fta    ft  oreb  dreb  reb  ast  stl  blk  tov  target_5yrs  \n",
       "0  ...  2.3  69.9   0.7   3.4  4.1  1.9  0.4  0.4  1.3            0  \n",
       "1  ...  3.4  76.5   0.5   2.0  2.4  3.7  1.1  0.5  1.6            0  \n",
       "2  ...  1.3  67.0   0.5   1.7  2.2  1.0  0.5  0.3  1.0            0  \n",
       "3  ...  1.3  68.9   1.0   0.9  1.9  0.8  0.6  0.1  1.0            1  \n",
       "4  ...  1.9  67.4   1.0   1.5  2.5  0.3  0.3  0.4  0.8            1  \n",
       "\n",
       "[5 rows x 22 columns]"
      ]
     },
     "execution_count": 4,
     "metadata": {},
     "output_type": "execute_result"
    }
   ],
   "source": [
    "data = pd.read_csv('nba-players.csv')\n",
    "data.head()"
   ]
  },
  {
   "cell_type": "code",
   "execution_count": 7,
   "metadata": {
    "execution": {
     "iopub.execute_input": "2021-09-25T03:05:29.43253Z",
     "iopub.status.busy": "2021-09-25T03:05:29.432179Z",
     "iopub.status.idle": "2021-09-25T03:05:29.439698Z",
     "shell.execute_reply": "2021-09-25T03:05:29.438748Z",
     "shell.execute_reply.started": "2021-09-25T03:05:29.432498Z"
    }
   },
   "outputs": [
    {
     "data": {
      "text/plain": [
       "Index(['Unnamed: 0', 'name', 'gp', 'min', 'pts', 'fgm', 'fga', 'fg', '3p_made',\n",
       "       '3pa', '3p', 'ftm', 'fta', 'ft', 'oreb', 'dreb', 'reb', 'ast', 'stl',\n",
       "       'blk', 'tov', 'target_5yrs', 'Total_mins'],\n",
       "      dtype='object')"
      ]
     },
     "execution_count": 7,
     "metadata": {},
     "output_type": "execute_result"
    }
   ],
   "source": [
    "data.columns"
   ]
  },
  {
   "cell_type": "code",
   "execution_count": 8,
   "metadata": {
    "execution": {
     "iopub.execute_input": "2021-09-25T03:05:29.441175Z",
     "iopub.status.busy": "2021-09-25T03:05:29.440887Z",
     "iopub.status.idle": "2021-09-25T03:05:29.461054Z",
     "shell.execute_reply": "2021-09-25T03:05:29.460111Z",
     "shell.execute_reply.started": "2021-09-25T03:05:29.44114Z"
    }
   },
   "outputs": [
    {
     "data": {
      "text/plain": [
       "0        986.4\n",
       "1        941.5\n",
       "2       1132.2\n",
       "3        672.8\n",
       "4        552.0\n",
       "         ...  \n",
       "1335    1264.0\n",
       "1336     856.8\n",
       "1337     520.3\n",
       "1338     624.0\n",
       "1339     549.9\n",
       "Name: Total_mins, Length: 1340, dtype: float64"
      ]
     },
     "execution_count": 8,
     "metadata": {},
     "output_type": "execute_result"
    }
   ],
   "source": [
    "data['Total_mins'] = data['gp']*data['min']\n",
    "data['Total_mins']"
   ]
  },
  {
   "cell_type": "code",
   "execution_count": 9,
   "metadata": {
    "execution": {
     "iopub.execute_input": "2021-09-25T03:05:29.462474Z",
     "iopub.status.busy": "2021-09-25T03:05:29.462215Z",
     "iopub.status.idle": "2021-09-25T03:05:29.477681Z",
     "shell.execute_reply": "2021-09-25T03:05:29.47656Z",
     "shell.execute_reply.started": "2021-09-25T03:05:29.462446Z"
    }
   },
   "outputs": [
    {
     "data": {
      "text/plain": [
       "dict_keys(['>= 60', '40-60', '<40'])"
      ]
     },
     "execution_count": 9,
     "metadata": {},
     "output_type": "execute_result"
    }
   ],
   "source": [
    "field_goal = {}\n",
    "field_goal['>= 60'] = len([k for k in data.fg if k >= 60])\n",
    "field_goal['40-60'] = len([k for k in data.fg if (40 <= k) and (k < 60)])\n",
    "field_goal['<40'] = len([k for k in data.fg if k < 40])\n",
    "\n",
    "field_goal.keys()"
   ]
  },
  {
   "cell_type": "markdown",
   "metadata": {},
   "source": [
    "### Field Goal Percentage Distribution visualization"
   ]
  },
  {
   "cell_type": "code",
   "execution_count": 10,
   "metadata": {
    "execution": {
     "iopub.execute_input": "2021-09-25T03:05:29.479382Z",
     "iopub.status.busy": "2021-09-25T03:05:29.47904Z",
     "iopub.status.idle": "2021-09-25T03:05:29.506652Z",
     "shell.execute_reply": "2021-09-25T03:05:29.50567Z",
     "shell.execute_reply.started": "2021-09-25T03:05:29.479349Z"
    }
   },
   "outputs": [
    {
     "data": {
      "text/html": [
       "<div>\n",
       "<style scoped>\n",
       "    .dataframe tbody tr th:only-of-type {\n",
       "        vertical-align: middle;\n",
       "    }\n",
       "\n",
       "    .dataframe tbody tr th {\n",
       "        vertical-align: top;\n",
       "    }\n",
       "\n",
       "    .dataframe thead th {\n",
       "        text-align: right;\n",
       "    }\n",
       "</style>\n",
       "<table border=\"1\" class=\"dataframe\">\n",
       "  <thead>\n",
       "    <tr style=\"text-align: right;\">\n",
       "      <th></th>\n",
       "      <th>field_goal</th>\n",
       "      <th>count</th>\n",
       "    </tr>\n",
       "  </thead>\n",
       "  <tbody>\n",
       "    <tr>\n",
       "      <th>0</th>\n",
       "      <td>42.6</td>\n",
       "      <td>15</td>\n",
       "    </tr>\n",
       "    <tr>\n",
       "      <th>1</th>\n",
       "      <td>41.5</td>\n",
       "      <td>15</td>\n",
       "    </tr>\n",
       "    <tr>\n",
       "      <th>2</th>\n",
       "      <td>43.9</td>\n",
       "      <td>15</td>\n",
       "    </tr>\n",
       "    <tr>\n",
       "      <th>3</th>\n",
       "      <td>43.0</td>\n",
       "      <td>15</td>\n",
       "    </tr>\n",
       "    <tr>\n",
       "      <th>4</th>\n",
       "      <td>45.5</td>\n",
       "      <td>14</td>\n",
       "    </tr>\n",
       "    <tr>\n",
       "      <th>...</th>\n",
       "      <td>...</td>\n",
       "      <td>...</td>\n",
       "    </tr>\n",
       "    <tr>\n",
       "      <th>195</th>\n",
       "      <td>48.9</td>\n",
       "      <td>2</td>\n",
       "    </tr>\n",
       "    <tr>\n",
       "      <th>199</th>\n",
       "      <td>49.2</td>\n",
       "      <td>2</td>\n",
       "    </tr>\n",
       "    <tr>\n",
       "      <th>200</th>\n",
       "      <td>44.0</td>\n",
       "      <td>2</td>\n",
       "    </tr>\n",
       "    <tr>\n",
       "      <th>206</th>\n",
       "      <td>48.8</td>\n",
       "      <td>2</td>\n",
       "    </tr>\n",
       "    <tr>\n",
       "      <th>210</th>\n",
       "      <td>49.9</td>\n",
       "      <td>2</td>\n",
       "    </tr>\n",
       "  </tbody>\n",
       "</table>\n",
       "<p>99 rows × 2 columns</p>\n",
       "</div>"
      ],
      "text/plain": [
       "     field_goal  count\n",
       "0          42.6     15\n",
       "1          41.5     15\n",
       "2          43.9     15\n",
       "3          43.0     15\n",
       "4          45.5     14\n",
       "..          ...    ...\n",
       "195        48.9      2\n",
       "199        49.2      2\n",
       "200        44.0      2\n",
       "206        48.8      2\n",
       "210        49.9      2\n",
       "\n",
       "[99 rows x 2 columns]"
      ]
     },
     "execution_count": 10,
     "metadata": {},
     "output_type": "execute_result"
    }
   ],
   "source": [
    "field_goal_df = data.fg.value_counts().reset_index()\n",
    "field_goal_df.columns = ['field_goal', 'count']\n",
    "field_goal_df[(field_goal_df.field_goal > 40) & (field_goal_df.field_goal < 50)]"
   ]
  },
  {
   "cell_type": "code",
   "execution_count": 11,
   "metadata": {
    "execution": {
     "iopub.execute_input": "2021-09-25T03:05:29.507942Z",
     "iopub.status.busy": "2021-09-25T03:05:29.507732Z",
     "iopub.status.idle": "2021-09-25T03:05:29.900197Z",
     "shell.execute_reply": "2021-09-25T03:05:29.899596Z",
     "shell.execute_reply.started": "2021-09-25T03:05:29.507918Z"
    }
   },
   "outputs": [
    {
     "data": {
      "image/png": "[encoded data removed]",
      "text/plain": [
       "<Figure size 1080x576 with 2 Axes>"
      ]
     },
     "metadata": {},
     "output_type": "display_data"
    }
   ],
   "source": [
    "plt.style.use('seaborn-white')\n",
    "plt.figure(figsize = (15, 8))\n",
    "ax1 = plt.axes()\n",
    "ax2 = plt.axes([0.65, 0.5, 0.2, 0.3])\n",
    "\n",
    "bins = range(20, 100, 10)\n",
    "ax1.hist(x = field_goal_df.field_goal, bins = bins, alpha = 0.5, ec = 'black')\n",
    "\n",
    "ax2.pie(x = list(field_goal.values()), labels = list(field_goal.keys()),\n",
    "       shadow = True, explode = (0.2, 0.15, 0.2),\n",
    "       radius = 1.5)\n",
    "\n",
    "ax1.set_title('Field Goal Percentage Distribution of NBA Players in 2020', fontsize = 18)\n",
    "ax1.set_xlabel('Field Goal Percentage', fontsize = 15)\n",
    "ax1.set_ylabel('Counts', fontsize = 15)\n",
    "plt.show()"
   ]
  },
  {
   "cell_type": "markdown",
   "metadata": {},
   "source": [
    "### 3 points made percentage distribution visualization"
   ]
  },
  {
   "cell_type": "code",
   "execution_count": 12,
   "metadata": {
    "execution": {
     "iopub.execute_input": "2021-09-25T03:05:29.901701Z",
     "iopub.status.busy": "2021-09-25T03:05:29.90138Z",
     "iopub.status.idle": "2021-09-25T03:05:29.932121Z",
     "shell.execute_reply": "2021-09-25T03:05:29.93144Z",
     "shell.execute_reply.started": "2021-09-25T03:05:29.901666Z"
    }
   },
   "outputs": [
    {
     "data": {
      "text/html": [
       "<div>\n",
       "<style scoped>\n",
       "    .dataframe tbody tr th:only-of-type {\n",
       "        vertical-align: middle;\n",
       "    }\n",
       "\n",
       "    .dataframe tbody tr th {\n",
       "        vertical-align: top;\n",
       "    }\n",
       "\n",
       "    .dataframe thead th {\n",
       "        text-align: right;\n",
       "    }\n",
       "</style>\n",
       "<table border=\"1\" class=\"dataframe\">\n",
       "  <thead>\n",
       "    <tr style=\"text-align: right;\">\n",
       "      <th></th>\n",
       "      <th>Unnamed: 0</th>\n",
       "      <th>name</th>\n",
       "      <th>gp</th>\n",
       "      <th>min</th>\n",
       "      <th>pts</th>\n",
       "      <th>fgm</th>\n",
       "      <th>fga</th>\n",
       "      <th>fg</th>\n",
       "      <th>3p_made</th>\n",
       "      <th>3pa</th>\n",
       "      <th>...</th>\n",
       "      <th>ft</th>\n",
       "      <th>oreb</th>\n",
       "      <th>dreb</th>\n",
       "      <th>reb</th>\n",
       "      <th>ast</th>\n",
       "      <th>stl</th>\n",
       "      <th>blk</th>\n",
       "      <th>tov</th>\n",
       "      <th>target_5yrs</th>\n",
       "      <th>Total_mins</th>\n",
       "    </tr>\n",
       "  </thead>\n",
       "  <tbody>\n",
       "    <tr>\n",
       "      <th>0</th>\n",
       "      <td>0</td>\n",
       "      <td>Brandon Ingram</td>\n",
       "      <td>36</td>\n",
       "      <td>27.4</td>\n",
       "      <td>7.4</td>\n",
       "      <td>2.6</td>\n",
       "      <td>7.6</td>\n",
       "      <td>34.7</td>\n",
       "      <td>0.5</td>\n",
       "      <td>2.1</td>\n",
       "      <td>...</td>\n",
       "      <td>69.9</td>\n",
       "      <td>0.7</td>\n",
       "      <td>3.4</td>\n",
       "      <td>4.1</td>\n",
       "      <td>1.9</td>\n",
       "      <td>0.4</td>\n",
       "      <td>0.4</td>\n",
       "      <td>1.3</td>\n",
       "      <td>0</td>\n",
       "      <td>986.4</td>\n",
       "    </tr>\n",
       "    <tr>\n",
       "      <th>1</th>\n",
       "      <td>1</td>\n",
       "      <td>Andrew Harrison</td>\n",
       "      <td>35</td>\n",
       "      <td>26.9</td>\n",
       "      <td>7.2</td>\n",
       "      <td>2.0</td>\n",
       "      <td>6.7</td>\n",
       "      <td>29.6</td>\n",
       "      <td>0.7</td>\n",
       "      <td>2.8</td>\n",
       "      <td>...</td>\n",
       "      <td>76.5</td>\n",
       "      <td>0.5</td>\n",
       "      <td>2.0</td>\n",
       "      <td>2.4</td>\n",
       "      <td>3.7</td>\n",
       "      <td>1.1</td>\n",
       "      <td>0.5</td>\n",
       "      <td>1.6</td>\n",
       "      <td>0</td>\n",
       "      <td>941.5</td>\n",
       "    </tr>\n",
       "    <tr>\n",
       "      <th>2</th>\n",
       "      <td>2</td>\n",
       "      <td>JaKarr Sampson</td>\n",
       "      <td>74</td>\n",
       "      <td>15.3</td>\n",
       "      <td>5.2</td>\n",
       "      <td>2.0</td>\n",
       "      <td>4.7</td>\n",
       "      <td>42.2</td>\n",
       "      <td>0.4</td>\n",
       "      <td>1.7</td>\n",
       "      <td>...</td>\n",
       "      <td>67.0</td>\n",
       "      <td>0.5</td>\n",
       "      <td>1.7</td>\n",
       "      <td>2.2</td>\n",
       "      <td>1.0</td>\n",
       "      <td>0.5</td>\n",
       "      <td>0.3</td>\n",
       "      <td>1.0</td>\n",
       "      <td>0</td>\n",
       "      <td>1132.2</td>\n",
       "    </tr>\n",
       "    <tr>\n",
       "      <th>3</th>\n",
       "      <td>3</td>\n",
       "      <td>Malik Sealy</td>\n",
       "      <td>58</td>\n",
       "      <td>11.6</td>\n",
       "      <td>5.7</td>\n",
       "      <td>2.3</td>\n",
       "      <td>5.5</td>\n",
       "      <td>42.6</td>\n",
       "      <td>0.1</td>\n",
       "      <td>0.5</td>\n",
       "      <td>...</td>\n",
       "      <td>68.9</td>\n",
       "      <td>1.0</td>\n",
       "      <td>0.9</td>\n",
       "      <td>1.9</td>\n",
       "      <td>0.8</td>\n",
       "      <td>0.6</td>\n",
       "      <td>0.1</td>\n",
       "      <td>1.0</td>\n",
       "      <td>1</td>\n",
       "      <td>672.8</td>\n",
       "    </tr>\n",
       "    <tr>\n",
       "      <th>4</th>\n",
       "      <td>4</td>\n",
       "      <td>Matt Geiger</td>\n",
       "      <td>48</td>\n",
       "      <td>11.5</td>\n",
       "      <td>4.5</td>\n",
       "      <td>1.6</td>\n",
       "      <td>3.0</td>\n",
       "      <td>52.4</td>\n",
       "      <td>0.0</td>\n",
       "      <td>0.1</td>\n",
       "      <td>...</td>\n",
       "      <td>67.4</td>\n",
       "      <td>1.0</td>\n",
       "      <td>1.5</td>\n",
       "      <td>2.5</td>\n",
       "      <td>0.3</td>\n",
       "      <td>0.3</td>\n",
       "      <td>0.4</td>\n",
       "      <td>0.8</td>\n",
       "      <td>1</td>\n",
       "      <td>552.0</td>\n",
       "    </tr>\n",
       "  </tbody>\n",
       "</table>\n",
       "<p>5 rows × 23 columns</p>\n",
       "</div>"
      ],
      "text/plain": [
       "   Unnamed: 0             name  gp   min  pts  fgm  fga    fg  3p_made  3pa  \\\n",
       "0           0   Brandon Ingram  36  27.4  7.4  2.6  7.6  34.7      0.5  2.1   \n",
       "1           1  Andrew Harrison  35  26.9  7.2  2.0  6.7  29.6      0.7  2.8   \n",
       "2           2   JaKarr Sampson  74  15.3  5.2  2.0  4.7  42.2      0.4  1.7   \n",
       "3           3      Malik Sealy  58  11.6  5.7  2.3  5.5  42.6      0.1  0.5   \n",
       "4           4      Matt Geiger  48  11.5  4.5  1.6  3.0  52.4      0.0  0.1   \n",
       "\n",
       "   ...    ft  oreb  dreb  reb  ast  stl  blk  tov  target_5yrs  Total_mins  \n",
       "0  ...  69.9   0.7   3.4  4.1  1.9  0.4  0.4  1.3            0       986.4  \n",
       "1  ...  76.5   0.5   2.0  2.4  3.7  1.1  0.5  1.6            0       941.5  \n",
       "2  ...  67.0   0.5   1.7  2.2  1.0  0.5  0.3  1.0            0      1132.2  \n",
       "3  ...  68.9   1.0   0.9  1.9  0.8  0.6  0.1  1.0            1       672.8  \n",
       "4  ...  67.4   1.0   1.5  2.5  0.3  0.3  0.4  0.8            1       552.0  \n",
       "\n",
       "[5 rows x 23 columns]"
      ]
     },
     "execution_count": 12,
     "metadata": {},
     "output_type": "execute_result"
    }
   ],
   "source": [
    "data.head()"
   ]
  },
  {
   "cell_type": "code",
   "execution_count": 13,
   "metadata": {
    "execution": {
     "iopub.execute_input": "2021-09-25T03:05:29.935027Z",
     "iopub.status.busy": "2021-09-25T03:05:29.934654Z",
     "iopub.status.idle": "2021-09-25T03:05:29.940469Z",
     "shell.execute_reply": "2021-09-25T03:05:29.939707Z",
     "shell.execute_reply.started": "2021-09-25T03:05:29.934989Z"
    }
   },
   "outputs": [
    {
     "data": {
      "text/plain": [
       "Index(['Unnamed: 0', 'name', 'gp', 'min', 'pts', 'fgm', 'fga', 'fg', '3p_made',\n",
       "       '3pa', '3p', 'ftm', 'fta', 'ft', 'oreb', 'dreb', 'reb', 'ast', 'stl',\n",
       "       'blk', 'tov', 'target_5yrs', 'Total_mins'],\n",
       "      dtype='object')"
      ]
     },
     "execution_count": 13,
     "metadata": {},
     "output_type": "execute_result"
    }
   ],
   "source": [
    "data.columns"
   ]
  },
  {
   "cell_type": "code",
   "execution_count": 14,
   "metadata": {
    "execution": {
     "iopub.execute_input": "2021-09-25T03:05:29.942286Z",
     "iopub.status.busy": "2021-09-25T03:05:29.942049Z",
     "iopub.status.idle": "2021-09-25T03:05:29.968102Z",
     "shell.execute_reply": "2021-09-25T03:05:29.967449Z",
     "shell.execute_reply.started": "2021-09-25T03:05:29.942261Z"
    }
   },
   "outputs": [
    {
     "data": {
      "text/html": [
       "<div>\n",
       "<style scoped>\n",
       "    .dataframe tbody tr th:only-of-type {\n",
       "        vertical-align: middle;\n",
       "    }\n",
       "\n",
       "    .dataframe tbody tr th {\n",
       "        vertical-align: top;\n",
       "    }\n",
       "\n",
       "    .dataframe thead th {\n",
       "        text-align: right;\n",
       "    }\n",
       "</style>\n",
       "<table border=\"1\" class=\"dataframe\">\n",
       "  <thead>\n",
       "    <tr style=\"text-align: right;\">\n",
       "      <th></th>\n",
       "      <th>3points</th>\n",
       "      <th>counts</th>\n",
       "    </tr>\n",
       "  </thead>\n",
       "  <tbody>\n",
       "    <tr>\n",
       "      <th>0</th>\n",
       "      <td>0.0</td>\n",
       "      <td>451</td>\n",
       "    </tr>\n",
       "    <tr>\n",
       "      <th>1</th>\n",
       "      <td>33.3</td>\n",
       "      <td>39</td>\n",
       "    </tr>\n",
       "    <tr>\n",
       "      <th>2</th>\n",
       "      <td>25.0</td>\n",
       "      <td>34</td>\n",
       "    </tr>\n",
       "    <tr>\n",
       "      <th>3</th>\n",
       "      <td>20.0</td>\n",
       "      <td>26</td>\n",
       "    </tr>\n",
       "    <tr>\n",
       "      <th>4</th>\n",
       "      <td>16.7</td>\n",
       "      <td>24</td>\n",
       "    </tr>\n",
       "    <tr>\n",
       "      <th>...</th>\n",
       "      <td>...</td>\n",
       "      <td>...</td>\n",
       "    </tr>\n",
       "    <tr>\n",
       "      <th>249</th>\n",
       "      <td>29.6</td>\n",
       "      <td>1</td>\n",
       "    </tr>\n",
       "    <tr>\n",
       "      <th>250</th>\n",
       "      <td>36.2</td>\n",
       "      <td>1</td>\n",
       "    </tr>\n",
       "    <tr>\n",
       "      <th>251</th>\n",
       "      <td>28.9</td>\n",
       "      <td>1</td>\n",
       "    </tr>\n",
       "    <tr>\n",
       "      <th>252</th>\n",
       "      <td>33.9</td>\n",
       "      <td>1</td>\n",
       "    </tr>\n",
       "    <tr>\n",
       "      <th>253</th>\n",
       "      <td>23.4</td>\n",
       "      <td>1</td>\n",
       "    </tr>\n",
       "  </tbody>\n",
       "</table>\n",
       "<p>254 rows × 2 columns</p>\n",
       "</div>"
      ],
      "text/plain": [
       "     3points  counts\n",
       "0        0.0     451\n",
       "1       33.3      39\n",
       "2       25.0      34\n",
       "3       20.0      26\n",
       "4       16.7      24\n",
       "..       ...     ...\n",
       "249     29.6       1\n",
       "250     36.2       1\n",
       "251     28.9       1\n",
       "252     33.9       1\n",
       "253     23.4       1\n",
       "\n",
       "[254 rows x 2 columns]"
      ]
     },
     "execution_count": 14,
     "metadata": {},
     "output_type": "execute_result"
    }
   ],
   "source": [
    "data[['3p', 'blk', 'oreb', 'dreb', 'ast', 'stl']]\n",
    "three_p = data['3p'].value_counts().reset_index()\n",
    "three_p.columns = ['3points', 'counts']\n",
    "three_p"
   ]
  },
  {
   "cell_type": "code",
   "execution_count": 15,
   "metadata": {
    "execution": {
     "iopub.execute_input": "2021-09-25T03:05:29.970222Z",
     "iopub.status.busy": "2021-09-25T03:05:29.9691Z",
     "iopub.status.idle": "2021-09-25T03:05:29.977139Z",
     "shell.execute_reply": "2021-09-25T03:05:29.976308Z",
     "shell.execute_reply.started": "2021-09-25T03:05:29.970188Z"
    }
   },
   "outputs": [],
   "source": [
    "assist = data['ast'].value_counts().reset_index()\n",
    "assist.columns = ['assist', 'counts']\n",
    "assist = assist.sort_values('assist')"
   ]
  },
  {
   "cell_type": "code",
   "execution_count": 16,
   "metadata": {
    "execution": {
     "iopub.execute_input": "2021-09-25T03:05:29.978368Z",
     "iopub.status.busy": "2021-09-25T03:05:29.978138Z",
     "iopub.status.idle": "2021-09-25T03:05:29.9931Z",
     "shell.execute_reply": "2021-09-25T03:05:29.992244Z",
     "shell.execute_reply.started": "2021-09-25T03:05:29.978318Z"
    }
   },
   "outputs": [],
   "source": [
    "block = data['blk'].value_counts().reset_index()\n",
    "block.columns = ['block', 'counts']\n",
    "block = block.sort_values('block')"
   ]
  },
  {
   "cell_type": "code",
   "execution_count": 17,
   "metadata": {
    "execution": {
     "iopub.execute_input": "2021-09-25T03:05:29.995568Z",
     "iopub.status.busy": "2021-09-25T03:05:29.994625Z",
     "iopub.status.idle": "2021-09-25T03:05:30.01056Z",
     "shell.execute_reply": "2021-09-25T03:05:30.009429Z",
     "shell.execute_reply.started": "2021-09-25T03:05:29.995524Z"
    }
   },
   "outputs": [],
   "source": [
    "deffensive_reb = data['dreb'].value_counts().reset_index()\n",
    "deffensive_reb.columns = ['dreb', 'counts']\n",
    "deffensive_reb = deffensive_reb.sort_values('dreb')"
   ]
  },
  {
   "cell_type": "code",
   "execution_count": 18,
   "metadata": {
    "execution": {
     "iopub.execute_input": "2021-09-25T03:05:30.012455Z",
     "iopub.status.busy": "2021-09-25T03:05:30.011999Z",
     "iopub.status.idle": "2021-09-25T03:05:30.026034Z",
     "shell.execute_reply": "2021-09-25T03:05:30.02542Z",
     "shell.execute_reply.started": "2021-09-25T03:05:30.01241Z"
    }
   },
   "outputs": [],
   "source": [
    "steals = data['stl'].value_counts().reset_index()\n",
    "steals.columns = ['steal', 'counts']\n",
    "steals = steals.sort_values('steal')"
   ]
  },
  {
   "cell_type": "code",
   "execution_count": 19,
   "metadata": {
    "execution": {
     "iopub.execute_input": "2021-09-25T03:05:30.027545Z",
     "iopub.status.busy": "2021-09-25T03:05:30.026912Z",
     "iopub.status.idle": "2021-09-25T03:05:30.266347Z",
     "shell.execute_reply": "2021-09-25T03:05:30.265504Z",
     "shell.execute_reply.started": "2021-09-25T03:05:30.027512Z"
    }
   },
   "outputs": [
    {
     "data": {
      "image/png": "[encoded data removed]",
      "text/plain": [
       "<Figure size 1080x576 with 1 Axes>"
      ]
     },
     "metadata": {},
     "output_type": "display_data"
    }
   ],
   "source": [
    "plt.style.use('fivethirtyeight')\n",
    "fig3, ax3 = plt.subplots(figsize = (15, 8))\n",
    "\n",
    "ax3.hist(x = three_p['3points'],\n",
    "         bins = range(0, 100, 10),\n",
    "         color = 'red',\n",
    "         ec = 'black')\n",
    "ax3.set_title('3 Points Percentage of NBA Players')\n",
    "ax3.set_xlabel('3 Points percentage of success (%)')\n",
    "\n",
    "plt.show()"
   ]
  },
  {
   "cell_type": "markdown",
   "metadata": {},
   "source": [
    "Reviews:\n",
    "- Most of players have success percentage in attempt to make 3-point scores which is 30-40% (just under 100 players)\n",
    "- Following that is 20-30 group, which takes over approximately 80 people\n",
    "- 10-20 and 40-50 groups have the same amount of players that is about 35 \n",
    "- Group of players who have better achivement in scoring 3-point goals (over 50%) contains a minimal amount (under 10 people). However, 3-points      percentage of successful goals is a great way to assess atacking players"
   ]
  },
  {
   "cell_type": "markdown",
   "metadata": {},
   "source": [
    "#### Skills counting"
   ]
  },
  {
   "cell_type": "code",
   "execution_count": 20,
   "metadata": {
    "execution": {
     "iopub.execute_input": "2021-09-25T03:05:30.267783Z",
     "iopub.status.busy": "2021-09-25T03:05:30.267555Z",
     "iopub.status.idle": "2021-09-25T03:05:30.560507Z",
     "shell.execute_reply": "2021-09-25T03:05:30.559453Z",
     "shell.execute_reply.started": "2021-09-25T03:05:30.267756Z"
    }
   },
   "outputs": [
    {
     "data": {
      "image/png": "[encoded data removed]",
      "text/plain": [
       "<Figure size 1080x576 with 1 Axes>"
      ]
     },
     "metadata": {},
     "output_type": "display_data"
    }
   ],
   "source": [
    "fig4, ax4 = plt.subplots(figsize = (15, 8))\n",
    "ax4.plot(block.block, block.counts, color = 'orange', label = 'Block')\n",
    "ax4.plot(deffensive_reb.dreb, deffensive_reb.counts, color = 'blue', label = 'Deffensive Rebound')\n",
    "ax4.plot(assist.assist, assist.counts, color = 'cyan', label = 'Assist')\n",
    "ax4.plot(steals.steal, steals.counts, color = 'red', label = 'Steal')\n",
    "\n",
    "ax4.set_title('Skills Counting of NBA Players')\n",
    "ax4.legend()\n",
    "ax4.set_xlabel('Skills Points')\n",
    "\n",
    "plt.show()"
   ]
  },
  {
   "cell_type": "markdown",
   "metadata": {},
   "source": [
    "Review:\n",
    "- Most of players have mischievous blocking skills while their point are abount 0 to 1 out of 10, which is disappointing to some extent. This trend, simultaneously, displays in other.\n",
    "- Deffensive Rebound and assist seem to be the most popular skills for players to practice. Althougn there are a great deal of basketball players have those skills points from 0 to 4, minimal part of them still have an outstanding expression in assisting teammates and deffend to the enemy which excess 8 points."
   ]
  },
  {
   "cell_type": "markdown",
   "metadata": {},
   "source": [
    "### Free throw percentage"
   ]
  },
  {
   "cell_type": "code",
   "execution_count": 21,
   "metadata": {
    "execution": {
     "iopub.execute_input": "2021-09-25T03:05:30.562882Z",
     "iopub.status.busy": "2021-09-25T03:05:30.56253Z",
     "iopub.status.idle": "2021-09-25T03:05:30.572268Z",
     "shell.execute_reply": "2021-09-25T03:05:30.571386Z",
     "shell.execute_reply.started": "2021-09-25T03:05:30.562838Z"
    }
   },
   "outputs": [
    {
     "data": {
      "text/plain": [
       "Index(['Unnamed: 0', 'name', 'gp', 'min', 'pts', 'fgm', 'fga', 'fg', '3p_made',\n",
       "       '3pa', '3p', 'ftm', 'fta', 'ft', 'oreb', 'dreb', 'reb', 'ast', 'stl',\n",
       "       'blk', 'tov', 'target_5yrs', 'Total_mins'],\n",
       "      dtype='object')"
      ]
     },
     "execution_count": 21,
     "metadata": {},
     "output_type": "execute_result"
    }
   ],
   "source": [
    "data.columns"
   ]
  },
  {
   "cell_type": "code",
   "execution_count": 22,
   "metadata": {
    "execution": {
     "iopub.execute_input": "2021-09-25T03:05:30.573942Z",
     "iopub.status.busy": "2021-09-25T03:05:30.573339Z",
     "iopub.status.idle": "2021-09-25T03:05:30.58808Z",
     "shell.execute_reply": "2021-09-25T03:05:30.587132Z",
     "shell.execute_reply.started": "2021-09-25T03:05:30.573894Z"
    }
   },
   "outputs": [
    {
     "data": {
      "text/plain": [
       "count    1340.000000\n",
       "mean       70.300299\n",
       "std        10.578479\n",
       "min         0.000000\n",
       "25%        64.700000\n",
       "50%        71.250000\n",
       "75%        77.600000\n",
       "max       100.000000\n",
       "Name: ft, dtype: float64"
      ]
     },
     "execution_count": 22,
     "metadata": {},
     "output_type": "execute_result"
    }
   ],
   "source": [
    "data.ft.describe()"
   ]
  },
  {
   "cell_type": "code",
   "execution_count": 23,
   "metadata": {
    "execution": {
     "iopub.execute_input": "2021-09-25T03:05:30.589582Z",
     "iopub.status.busy": "2021-09-25T03:05:30.589349Z",
     "iopub.status.idle": "2021-09-25T03:05:30.602258Z",
     "shell.execute_reply": "2021-09-25T03:05:30.601375Z",
     "shell.execute_reply.started": "2021-09-25T03:05:30.589554Z"
    }
   },
   "outputs": [
    {
     "data": {
      "text/plain": [
       "{'>= 80': 233, '60-80': 907, '40-60': 187, '<40': 13}"
      ]
     },
     "execution_count": 23,
     "metadata": {},
     "output_type": "execute_result"
    }
   ],
   "source": [
    "free_throw = {}\n",
    "free_throw['>= 80'] = len([k for k in data.ft if k >= 80])\n",
    "free_throw['60-80'] = len([k for k in data.ft if (k>=60) & (k < 80)])\n",
    "free_throw['40-60'] = len([k for k in data.ft if (k>=40) & (k<60)])\n",
    "free_throw['<40'] = len([k for k in data.ft if (k<40)])\n",
    "\n",
    "free_throw"
   ]
  },
  {
   "cell_type": "code",
   "execution_count": 24,
   "metadata": {
    "execution": {
     "iopub.execute_input": "2021-09-25T03:05:30.60366Z",
     "iopub.status.busy": "2021-09-25T03:05:30.603418Z",
     "iopub.status.idle": "2021-09-25T03:05:30.94293Z",
     "shell.execute_reply": "2021-09-25T03:05:30.942012Z",
     "shell.execute_reply.started": "2021-09-25T03:05:30.603633Z"
    }
   },
   "outputs": [
    {
     "data": {
      "image/png": "[encoded data removed]",
      "text/plain": [
       "<Figure size 1080x576 with 2 Axes>"
      ]
     },
     "metadata": {},
     "output_type": "display_data"
    }
   ],
   "source": [
    "plt.style.use('seaborn-white')\n",
    "plt.figure(figsize = (15, 8))\n",
    "ax5 = plt.axes()\n",
    "ax6 = plt.axes([0.2, 0.5, 0.2, 0.3])\n",
    "\n",
    "colors = ['#66FFFF', '#FFFF33', '#FF7733', '#FF00FF']\n",
    "\n",
    "ax5.hist(x = data.ft,\n",
    "         bins = range(0, 110, 10), ec = 'black')\n",
    "ax5.set_xlabel('Percentage (%)')\n",
    "ax5.set_title('Percentage of successful free throw of NBA Players')\n",
    "\n",
    "\n",
    "ax6.pie(list(free_throw.values()),\n",
    "        labels = list(free_throw.keys()),\n",
    "        colors = colors,\n",
    "        explode = (0.15, 0, 0.15, 0.2),\n",
    "        radius = 1.5, shadow = True)\n",
    "\n",
    "plt.show()"
   ]
  },
  {
   "cell_type": "markdown",
   "metadata": {},
   "source": [
    "### Correlation of total playing time and target 5 years"
   ]
  },
  {
   "cell_type": "code",
   "execution_count": 25,
   "metadata": {
    "execution": {
     "iopub.execute_input": "2021-09-25T03:05:30.94438Z",
     "iopub.status.busy": "2021-09-25T03:05:30.944082Z",
     "iopub.status.idle": "2021-09-25T03:05:30.952368Z",
     "shell.execute_reply": "2021-09-25T03:05:30.951457Z",
     "shell.execute_reply.started": "2021-09-25T03:05:30.944349Z"
    }
   },
   "outputs": [
    {
     "data": {
      "text/plain": [
       "1    831\n",
       "0    509\n",
       "Name: target_5yrs, dtype: int64"
      ]
     },
     "execution_count": 25,
     "metadata": {},
     "output_type": "execute_result"
    }
   ],
   "source": [
    "data['target_5yrs'].value_counts()"
   ]
  },
  {
   "cell_type": "code",
   "execution_count": 26,
   "metadata": {
    "execution": {
     "iopub.execute_input": "2021-09-25T03:05:30.954073Z",
     "iopub.status.busy": "2021-09-25T03:05:30.953756Z",
     "iopub.status.idle": "2021-09-25T03:05:30.96629Z",
     "shell.execute_reply": "2021-09-25T03:05:30.965402Z",
     "shell.execute_reply.started": "2021-09-25T03:05:30.95403Z"
    }
   },
   "outputs": [
    {
     "data": {
      "text/plain": [
       "Index(['Unnamed: 0', 'name', 'gp', 'min', 'pts', 'fgm', 'fga', 'fg', '3p_made',\n",
       "       '3pa', '3p', 'ftm', 'fta', 'ft', 'oreb', 'dreb', 'reb', 'ast', 'stl',\n",
       "       'blk', 'tov', 'target_5yrs', 'Total_mins'],\n",
       "      dtype='object')"
      ]
     },
     "execution_count": 26,
     "metadata": {},
     "output_type": "execute_result"
    }
   ],
   "source": [
    "data.columns"
   ]
  },
  {
   "cell_type": "code",
   "execution_count": 27,
   "metadata": {
    "execution": {
     "iopub.execute_input": "2021-09-25T03:05:30.967744Z",
     "iopub.status.busy": "2021-09-25T03:05:30.967436Z",
     "iopub.status.idle": "2021-09-25T03:05:30.983048Z",
     "shell.execute_reply": "2021-09-25T03:05:30.98212Z",
     "shell.execute_reply.started": "2021-09-25T03:05:30.967706Z"
    }
   },
   "outputs": [
    {
     "data": {
      "text/plain": [
       "count    1340.000000\n",
       "mean     1150.204478\n",
       "std       747.382409\n",
       "min        43.400000\n",
       "25%       525.150000\n",
       "50%       988.450000\n",
       "75%      1636.050000\n",
       "max      3247.200000\n",
       "Name: Total_mins, dtype: float64"
      ]
     },
     "execution_count": 27,
     "metadata": {},
     "output_type": "execute_result"
    }
   ],
   "source": [
    "total_mins = data.Total_mins\n",
    "total_mins.describe()"
   ]
  },
  {
   "cell_type": "code",
   "execution_count": 28,
   "metadata": {
    "execution": {
     "iopub.execute_input": "2021-09-25T03:05:30.984848Z",
     "iopub.status.busy": "2021-09-25T03:05:30.984613Z",
     "iopub.status.idle": "2021-09-25T03:05:30.99788Z",
     "shell.execute_reply": "2021-09-25T03:05:30.997276Z",
     "shell.execute_reply.started": "2021-09-25T03:05:30.984822Z"
    }
   },
   "outputs": [
    {
     "data": {
      "text/plain": [
       "0.36"
      ]
     },
     "execution_count": 28,
     "metadata": {},
     "output_type": "execute_result"
    }
   ],
   "source": [
    "def get_average_target(a, b):\n",
    "    df = data[(data.Total_mins >= a) & (data.Total_mins < b)]\n",
    "    return round(np.mean(df.target_5yrs), 2)\n",
    "\n",
    "get_average_target(0, 500)"
   ]
  },
  {
   "cell_type": "code",
   "execution_count": 29,
   "metadata": {
    "execution": {
     "iopub.execute_input": "2021-09-25T03:05:30.999398Z",
     "iopub.status.busy": "2021-09-25T03:05:30.998793Z",
     "iopub.status.idle": "2021-09-25T03:05:31.406208Z",
     "shell.execute_reply": "2021-09-25T03:05:31.405336Z",
     "shell.execute_reply.started": "2021-09-25T03:05:30.999365Z"
    }
   },
   "outputs": [
    {
     "data": {
      "image/png": "[encoded data removed]",
      "text/plain": [
       "<Figure size 1080x576 with 2 Axes>"
      ]
     },
     "metadata": {},
     "output_type": "display_data"
    }
   ],
   "source": [
    "fig6, ax6 = plt.subplots(figsize = (15, 8))\n",
    "bins = range(0, 4000, 500)\n",
    "x = range(250, 3500, 500)\n",
    "y = [get_average_target(bins[i], bins[i+1]) for i in range(len(bins)-1)]\n",
    "ax6.hist(total_mins,\n",
    "         bins = bins,\n",
    "         alpha = 0.8,\n",
    "         ec = 'black')\n",
    "\n",
    "ax6_ = ax6.twinx()\n",
    "ax6_.plot(x, y, 'r-o')\n",
    "\n",
    "ax6.set_xlabel('Total minutes playing of NBA Players')\n",
    "ax6.set_title('Correlation of total minutes playing and the percentage of long career duration')\n",
    "\n",
    "ax6.set_ylabel('Counts', color = 'blue')\n",
    "ax6_.set_ylabel('Percent (/1)', color = 'red')\n",
    "\n",
    "ax6.tick_params(axis = 'y', colors = 'blue')\n",
    "ax6_.tick_params(axis = 'y', colors = 'red')"
   ]
  },
  {
   "cell_type": "markdown",
   "metadata": {},
   "source": [
    "### Correlation of 3 points made and target 5 years"
   ]
  },
  {
   "cell_type": "code",
   "execution_count": null,
   "metadata": {
    "execution": {
     "iopub.execute_input": "2021-09-25T03:05:31.40755Z",
     "iopub.status.busy": "2021-09-25T03:05:31.407278Z",
     "iopub.status.idle": "2021-09-25T03:05:31.421151Z",
     "shell.execute_reply": "2021-09-25T03:05:31.420598Z",
     "shell.execute_reply.started": "2021-09-25T03:05:31.407522Z"
    }
   },
   "outputs": [],
   "source": [
    "top_3p = data['3p_made'].value_counts().reset_index()\n",
    "top_3p.columns = ['3p_made', 'counts']\n",
    "top_3p = top_3p.sort_values('3p_made', ascending = False)\n",
    "top_3p.head()"
   ]
  },
  {
   "cell_type": "code",
   "execution_count": null,
   "metadata": {
    "execution": {
     "iopub.execute_input": "2021-09-25T03:05:31.424519Z",
     "iopub.status.busy": "2021-09-25T03:05:31.42411Z",
     "iopub.status.idle": "2021-09-25T03:05:31.434671Z",
     "shell.execute_reply": "2021-09-25T03:05:31.434014Z",
     "shell.execute_reply.started": "2021-09-25T03:05:31.424488Z"
    }
   },
   "outputs": [],
   "source": [
    "def get_average_5yrs_3pm(points):\n",
    "    df = data[data['3p_made'] == points]\n",
    "    return round(np.mean(df.target_5yrs), 2)"
   ]
  },
  {
   "cell_type": "code",
   "execution_count": null,
   "metadata": {
    "execution": {
     "iopub.execute_input": "2021-09-25T03:11:57.797793Z",
     "iopub.status.busy": "2021-09-25T03:11:57.796971Z",
     "iopub.status.idle": "2021-09-25T03:11:58.174048Z",
     "shell.execute_reply": "2021-09-25T03:11:58.173107Z",
     "shell.execute_reply.started": "2021-09-25T03:11:57.797748Z"
    }
   },
   "outputs": [],
   "source": [
    "fig7, ax7 = plt.subplots(figsize = (15, 8))\n",
    "\n",
    "height = top_3p.counts\n",
    "\n",
    "ax7.bar(x = top_3p['3p_made'], width = 0.1, \n",
    "        height = height,ec = 'black')\n",
    "\n",
    "ax7_ = ax7.twinx()\n",
    "ax7_.plot(top_3p['3p_made'],\n",
    "          [get_average_5yrs_3pm(i) for i in top_3p['3p_made']],\n",
    "          'r-o')\n",
    "ax7.set_title('Correlation of 3 points made and target 5 years')\n",
    "ax7.set_ylabel('Counts', color = '#0055FF')\n",
    "ax7_.set_ylabel('Percentage of have 5-year career', color = 'red')\n",
    "\n",
    "ax7.set_xlabel('Average number of 3-point goals')\n",
    "\n",
    "ax7.tick_params(axis = 'y', colors = '#0055FF')\n",
    "ax7_.tick_params(axis = 'y', colors = 'red')\n",
    "\n",
    "plt.show()"
   ]
  },
  {
   "cell_type": "markdown",
   "metadata": {},
   "source": [
    "### Correlation of assist point and target 5 years"
   ]
  },
  {
   "cell_type": "code",
   "execution_count": null,
   "metadata": {
    "execution": {
     "iopub.execute_input": "2021-09-25T03:21:28.713711Z",
     "iopub.status.busy": "2021-09-25T03:21:28.713434Z",
     "iopub.status.idle": "2021-09-25T03:21:28.7346Z",
     "shell.execute_reply": "2021-09-25T03:21:28.733829Z",
     "shell.execute_reply.started": "2021-09-25T03:21:28.713682Z"
    }
   },
   "outputs": [],
   "source": [
    "assist = data.ast.value_counts().reset_index()\n",
    "assist.columns = ['assist', 'counts']\n",
    "assist = assist.sort_values('assist')\n",
    "assist"
   ]
  },
  {
   "cell_type": "code",
   "execution_count": null,
   "metadata": {
    "execution": {
     "iopub.execute_input": "2021-09-25T03:27:07.868149Z",
     "iopub.status.busy": "2021-09-25T03:27:07.867843Z",
     "iopub.status.idle": "2021-09-25T03:27:07.874263Z",
     "shell.execute_reply": "2021-09-25T03:27:07.873122Z",
     "shell.execute_reply.started": "2021-09-25T03:27:07.868116Z"
    }
   },
   "outputs": [],
   "source": [
    "def get_avr_5yrs_assist(a, b):\n",
    "    df = data[(data['ast'] >= a) & (data['ast'] < b)]\n",
    "    return round(np.mean(df.target_5yrs), 2)"
   ]
  },
  {
   "cell_type": "code",
   "execution_count": null,
   "metadata": {
    "execution": {
     "iopub.execute_input": "2021-09-25T03:36:33.169362Z",
     "iopub.status.busy": "2021-09-25T03:36:33.168413Z",
     "iopub.status.idle": "2021-09-25T03:36:33.529025Z",
     "shell.execute_reply": "2021-09-25T03:36:33.528122Z",
     "shell.execute_reply.started": "2021-09-25T03:36:33.169266Z"
    }
   },
   "outputs": [],
   "source": [
    "fig8, ax8 = plt.subplots(figsize = (15, 8))\n",
    "bins8 = range(12)\n",
    "\n",
    "ax8.hist(data.ast, bins = bins8, ec = 'white')\n",
    "ax8.set_xticks(bins8)\n",
    "\n",
    "ax8_ = ax8.twinx()\n",
    "ax8_.plot([0.5, 1.5, 2.5, 3.5, 4.5, 5.5, 6.5, 7.5, 8.5, 9.5, 10.5], \n",
    "          [get_avr_5yrs_assist(bins8[i], bins8[i+1]) for i in range(11)], 'r-o')\n",
    "\n",
    "ax8.set_title('Correlation of assist point and target 5 years')\n",
    "ax8.set_xlabel('Assist score')\n",
    "ax8.set_ylabel('Counts', color = '#0055FF')\n",
    "ax8_.set_ylabel('Percent', color = 'red')\n",
    "\n",
    "ax8.tick_params(axis = 'y', colors = '#0055FF')\n",
    "ax8_.tick_params(axis = 'y', colors = 'red')\n",
    "\n",
    "plt.show()"
   ]
  },
  {
   "cell_type": "code",
   "execution_count": null,
   "metadata": {},
   "outputs": [],
   "source": []
  }
 ],
 "metadata": {
  "kernelspec": {
   "display_name": "Python 3 (ipykernel)",
   "language": "python",
   "name": "python3"
  },
  "language_info": {
   "codemirror_mode": {
    "name": "ipython",
    "version": 3
   },
   "file_extension": ".py",
   "mimetype": "text/x-python",
   "name": "python",
   "nbconvert_exporter": "python",
   "pygments_lexer": "ipython3",
   "version": "3.9.7"
  }
 },
 "nbformat": 4,
 "nbformat_minor": 4
}
